{
  "nbformat": 4,
  "nbformat_minor": 0,
  "metadata": {
    "colab": {
      "name": "Hand pred.ipynb",
      "version": "0.3.2",
      "provenance": [],
      "collapsed_sections": [],
      "include_colab_link": true
    },
    "kernelspec": {
      "name": "python3",
      "display_name": "Python 3"
    }
  },
  "cells": [
    {
      "cell_type": "markdown",
      "metadata": {
        "id": "view-in-github",
        "colab_type": "text"
      },
      "source": [
        "<a href=\"https://colab.research.google.com/github/rakeshcoolkat/Image_recognition-Python/blob/master/Hand_pred.ipynb\" target=\"_parent\"><img src=\"https://colab.research.google.com/assets/colab-badge.svg\" alt=\"Open In Colab\"/></a>"
      ]
    },
    {
      "cell_type": "code",
      "metadata": {
        "id": "_NCVnsBfsCws",
        "colab_type": "code",
        "colab": {
          "base_uri": "https://localhost:8080/",
          "height": 292
        },
        "outputId": "2fa39b26-177d-43d4-9bba-ef4507c42f31"
      },
      "source": [
        "!pip install pyunpack\n",
        "!pip install patool\n",
        "import os\n",
        "from pyunpack import Archive\n",
        "\n",
        "local_zip = '/content/Assignment.rar'\n",
        "Archive('/content/Assignment.rar').extractall('/content/sample_data')"
      ],
      "execution_count": 1,
      "outputs": [
        {
          "output_type": "stream",
          "text": [
            "Collecting pyunpack\n",
            "  Downloading https://files.pythonhosted.org/packages/79/dc/44cd41fb99d184ae7c2eac439a52ca624d5ece62b0302c3437fcc4ce3b58/pyunpack-0.1.2.tar.gz\n",
            "Collecting easyprocess (from pyunpack)\n",
            "  Downloading https://files.pythonhosted.org/packages/fa/29/40040d1d64a224a5e44df9572794a66494618ffe5c77199214aeceedb8a7/EasyProcess-0.2.7-py2.py3-none-any.whl\n",
            "Building wheels for collected packages: pyunpack\n",
            "  Building wheel for pyunpack (setup.py) ... \u001b[?25l\u001b[?25hdone\n",
            "  Stored in directory: /root/.cache/pip/wheels/af/44/08/60613970881e542c0baad1f2dea5ed8e6716bc573f49197b7e\n",
            "Successfully built pyunpack\n",
            "Installing collected packages: easyprocess, pyunpack\n",
            "Successfully installed easyprocess-0.2.7 pyunpack-0.1.2\n",
            "Collecting patool\n",
            "\u001b[?25l  Downloading https://files.pythonhosted.org/packages/43/94/52243ddff508780dd2d8110964320ab4851134a55ab102285b46e740f76a/patool-1.12-py2.py3-none-any.whl (77kB)\n",
            "\u001b[K     |████████████████████████████████| 81kB 4.9MB/s \n",
            "\u001b[?25hInstalling collected packages: patool\n",
            "Successfully installed patool-1.12\n"
          ],
          "name": "stdout"
        }
      ]
    },
    {
      "cell_type": "code",
      "metadata": {
        "id": "WC5pP6_Ip7gO",
        "colab_type": "code",
        "colab": {}
      },
      "source": [
        "import tensorflow as tf\n",
        "import cv2\n",
        "import glob\n",
        "from sklearn.utils import shuffle\n",
        "import numpy as np\n",
        "from sklearn.model_selection import train_test_split\n",
        "import numpy\n",
        "from keras.models import Sequential,Model\n",
        "from keras.layers import Dense\n",
        "from keras.wrappers.scikit_learn import KerasRegressor\n",
        "from sklearn.model_selection import cross_val_score\n",
        "from sklearn.model_selection import KFold\n",
        "from sklearn.preprocessing import StandardScaler\n",
        "from sklearn.pipeline import Pipeline\n",
        "from keras.models import Sequential\n",
        "from keras.layers import Input,Dense, Conv2D, Dropout, Flatten, MaxPooling2D\n",
        "from keras.layers.convolutional import Convolution2D, MaxPooling2D\n",
        "from keras.layers.core import Dense, Dropout, Activation, Flatten"
      ],
      "execution_count": 0,
      "outputs": []
    },
    {
      "cell_type": "code",
      "metadata": {
        "id": "-jkCB2dDsIuS",
        "colab_type": "code",
        "colab": {}
      },
      "source": [
        "train_path='/content/sample_data/Assignment'\n",
        "image_size=128\n",
        "classes=os.listdir('/content/sample_data/Assignment')\n",
        "def load_train(train_path, image_size, classes):\n",
        "    images = []\n",
        "    labels = []\n",
        "    img_names = []\n",
        "\n",
        "    print('Going to read training images')\n",
        "    for fields in classes:   \n",
        "        index = classes.index(fields)\n",
        "        print('Now going to read {} files (Index: {})'.format(fields, index))\n",
        "        path = os.path.join(train_path, fields, '*g')\n",
        "        files = glob.glob(path)\n",
        "        for fl in files:\n",
        "            image = cv2.imread(fl)\n",
        "            image = cv2.resize(image, (image_size, image_size),0,0, cv2.INTER_LINEAR)\n",
        "            image = image.astype(np.float32)\n",
        "            image = np.multiply(image, 1.0 / 255.0)\n",
        "            images.append(image)\n",
        "            label = np.zeros(len(classes))\n",
        "            label[index] = 1.0\n",
        "            labels.append(label)\n",
        "            #labels.append(fields)\n",
        "            flbase = os.path.basename(fl)\n",
        "            img_names.append(flbase)\n",
        "    images = np.array(images)\n",
        "    labels = np.array(labels)\n",
        "    #labels=np.reshape(label,(-1,1))\n",
        "    img_names = np.array(img_names)\n",
        "\n",
        "    return images, labels, img_names"
      ],
      "execution_count": 0,
      "outputs": []
    },
    {
      "cell_type": "code",
      "metadata": {
        "id": "FnDas9mosjOF",
        "colab_type": "code",
        "colab": {
          "base_uri": "https://localhost:8080/",
          "height": 68
        },
        "outputId": "75633508-10c0-48e8-b49b-ad14a92ec434"
      },
      "source": [
        "\n",
        "images, labels, img_names = load_train(train_path, image_size, classes)\n",
        "images, labels, img_names = shuffle(images, labels, img_names) \n",
        "x_train,x_test,y_train,y_test=train_test_split(images,labels, test_size=0.33)\n",
        "x_train = x_train.reshape(x_train.shape[0], 128, 128,3)\n",
        "x_test = x_test.reshape(x_test.shape[0], 128, 128,3) "
      ],
      "execution_count": 60,
      "outputs": [
        {
          "output_type": "stream",
          "text": [
            "Going to read training images\n",
            "Now going to read LeftH files (Index: 0)\n",
            "Now going to read rightH files (Index: 1)\n"
          ],
          "name": "stdout"
        }
      ]
    },
    {
      "cell_type": "code",
      "metadata": {
        "id": "9NZa94pts_Yi",
        "colab_type": "code",
        "colab": {}
      },
      "source": [
        "from keras import backend as K\n",
        "\n",
        "def r2_keras(y_true, y_pred):\n",
        "    SS_res =  K.sum(K.square(y_true - y_pred)) \n",
        "    SS_tot = K.sum(K.square(y_true - K.mean(y_true))) \n",
        "    return ( 1 - SS_res/(SS_tot + K.epsilon()) )"
      ],
      "execution_count": 0,
      "outputs": []
    },
    {
      "cell_type": "code",
      "metadata": {
        "id": "Mg9Wta0qtC07",
        "colab_type": "code",
        "colab": {
          "base_uri": "https://localhost:8080/",
          "height": 207
        },
        "outputId": "6b83fecc-4238-4725-b634-c57b633a73b4"
      },
      "source": [
        "model = Sequential()\n",
        "\n",
        "model.add(Convolution2D(32,2,2,border_mode='same',input_shape=(128, 128,3)))\n",
        "model.add(Activation('relu'))\n",
        "model.add(Convolution2D(32,2,2))\n",
        "model.add(Activation('relu'))\n",
        "model.add(MaxPooling2D(pool_size=(2, 2)))\n",
        "model.add(Dropout(0.2))\n",
        "\n",
        "model.add(Convolution2D(64,3,3))\n",
        "model.add(Activation('relu'))\n",
        "model.add(Convolution2D(64,3,3))\n",
        "model.add(Activation('relu'))\n",
        "model.add(MaxPooling2D(pool_size=(2,2)))\n",
        "model.add(Dropout(0.2))\n",
        "\n",
        "\n",
        "model.add(Convolution2D(96,4,4))\n",
        "model.add(Activation('relu'))\n",
        "model.add(Convolution2D(96,4,4))\n",
        "model.add(Activation('relu'))\n",
        "model.add(MaxPooling2D(pool_size=(2,2)))\n",
        "model.add(Dropout(0.2))\n",
        "\n",
        "\n",
        "model.add(Flatten())\n",
        "model.add(Dense(64))\n",
        "model.add(Activation('relu'))\n",
        "model.add(Dropout(0.2))\n",
        "model.add(Dense(2))\n",
        "model.add(Activation('softmax'))\n"
      ],
      "execution_count": 62,
      "outputs": [
        {
          "output_type": "stream",
          "text": [
            "/usr/local/lib/python3.6/dist-packages/ipykernel_launcher.py:3: UserWarning: Update your `Conv2D` call to the Keras 2 API: `Conv2D(32, (2, 2), input_shape=(128, 128,..., padding=\"same\")`\n",
            "  This is separate from the ipykernel package so we can avoid doing imports until\n",
            "/usr/local/lib/python3.6/dist-packages/ipykernel_launcher.py:5: UserWarning: Update your `Conv2D` call to the Keras 2 API: `Conv2D(32, (2, 2))`\n",
            "  \"\"\"\n",
            "/usr/local/lib/python3.6/dist-packages/ipykernel_launcher.py:10: UserWarning: Update your `Conv2D` call to the Keras 2 API: `Conv2D(64, (3, 3))`\n",
            "  # Remove the CWD from sys.path while we load stuff.\n",
            "/usr/local/lib/python3.6/dist-packages/ipykernel_launcher.py:12: UserWarning: Update your `Conv2D` call to the Keras 2 API: `Conv2D(64, (3, 3))`\n",
            "  if sys.path[0] == '':\n",
            "/usr/local/lib/python3.6/dist-packages/ipykernel_launcher.py:18: UserWarning: Update your `Conv2D` call to the Keras 2 API: `Conv2D(96, (4, 4))`\n",
            "/usr/local/lib/python3.6/dist-packages/ipykernel_launcher.py:20: UserWarning: Update your `Conv2D` call to the Keras 2 API: `Conv2D(96, (4, 4))`\n"
          ],
          "name": "stderr"
        }
      ]
    },
    {
      "cell_type": "code",
      "metadata": {
        "id": "2RmXKBodHMXU",
        "colab_type": "code",
        "colab": {}
      },
      "source": [
        " #model.compile(optimizer='adam',\n",
        " #               loss='mean_squared_error',\n",
        " #                 metrics=[r2_keras])"
      ],
      "execution_count": 0,
      "outputs": []
    },
    {
      "cell_type": "code",
      "metadata": {
        "id": "fWCTmqkMtKpy",
        "colab_type": "code",
        "colab": {}
      },
      "source": [
        "model.compile(optimizer='adam',\n",
        "               loss='categorical_crossentropy',\n",
        "                metrics=['accuracy'])"
      ],
      "execution_count": 0,
      "outputs": []
    },
    {
      "cell_type": "code",
      "metadata": {
        "id": "Is0IR-YKtNoR",
        "colab_type": "code",
        "colab": {
          "base_uri": "https://localhost:8080/",
          "height": 952
        },
        "outputId": "9e93932f-dcbc-4bb7-da2e-41ab8c7f7e5c"
      },
      "source": [
        "model.summary()"
      ],
      "execution_count": 64,
      "outputs": [
        {
          "output_type": "stream",
          "text": [
            "_________________________________________________________________\n",
            "Layer (type)                 Output Shape              Param #   \n",
            "=================================================================\n",
            "conv2d_25 (Conv2D)           (None, 128, 128, 32)      416       \n",
            "_________________________________________________________________\n",
            "activation_33 (Activation)   (None, 128, 128, 32)      0         \n",
            "_________________________________________________________________\n",
            "conv2d_26 (Conv2D)           (None, 127, 127, 32)      4128      \n",
            "_________________________________________________________________\n",
            "activation_34 (Activation)   (None, 127, 127, 32)      0         \n",
            "_________________________________________________________________\n",
            "max_pooling2d_13 (MaxPooling (None, 63, 63, 32)        0         \n",
            "_________________________________________________________________\n",
            "dropout_15 (Dropout)         (None, 63, 63, 32)        0         \n",
            "_________________________________________________________________\n",
            "conv2d_27 (Conv2D)           (None, 61, 61, 64)        18496     \n",
            "_________________________________________________________________\n",
            "activation_35 (Activation)   (None, 61, 61, 64)        0         \n",
            "_________________________________________________________________\n",
            "conv2d_28 (Conv2D)           (None, 59, 59, 64)        36928     \n",
            "_________________________________________________________________\n",
            "activation_36 (Activation)   (None, 59, 59, 64)        0         \n",
            "_________________________________________________________________\n",
            "max_pooling2d_14 (MaxPooling (None, 29, 29, 64)        0         \n",
            "_________________________________________________________________\n",
            "dropout_16 (Dropout)         (None, 29, 29, 64)        0         \n",
            "_________________________________________________________________\n",
            "conv2d_29 (Conv2D)           (None, 26, 26, 96)        98400     \n",
            "_________________________________________________________________\n",
            "activation_37 (Activation)   (None, 26, 26, 96)        0         \n",
            "_________________________________________________________________\n",
            "conv2d_30 (Conv2D)           (None, 23, 23, 96)        147552    \n",
            "_________________________________________________________________\n",
            "activation_38 (Activation)   (None, 23, 23, 96)        0         \n",
            "_________________________________________________________________\n",
            "max_pooling2d_15 (MaxPooling (None, 11, 11, 96)        0         \n",
            "_________________________________________________________________\n",
            "dropout_17 (Dropout)         (None, 11, 11, 96)        0         \n",
            "_________________________________________________________________\n",
            "flatten_5 (Flatten)          (None, 11616)             0         \n",
            "_________________________________________________________________\n",
            "dense_9 (Dense)              (None, 64)                743488    \n",
            "_________________________________________________________________\n",
            "activation_39 (Activation)   (None, 64)                0         \n",
            "_________________________________________________________________\n",
            "dropout_18 (Dropout)         (None, 64)                0         \n",
            "_________________________________________________________________\n",
            "dense_10 (Dense)             (None, 2)                 130       \n",
            "_________________________________________________________________\n",
            "activation_40 (Activation)   (None, 2)                 0         \n",
            "=================================================================\n",
            "Total params: 1,049,538\n",
            "Trainable params: 1,049,538\n",
            "Non-trainable params: 0\n",
            "_________________________________________________________________\n"
          ],
          "name": "stdout"
        }
      ]
    },
    {
      "cell_type": "code",
      "metadata": {
        "id": "26SUHsS7tROX",
        "colab_type": "code",
        "colab": {}
      },
      "source": [
        "from keras.preprocessing.image import ImageDataGenerator"
      ],
      "execution_count": 0,
      "outputs": []
    },
    {
      "cell_type": "code",
      "metadata": {
        "id": "sUO0O_RetWgA",
        "colab_type": "code",
        "colab": {
          "base_uri": "https://localhost:8080/",
          "height": 357
        },
        "outputId": "607e9c8a-92b4-4a44-e041-97383e5bb57c"
      },
      "source": [
        "datagen = ImageDataGenerator(\n",
        "    rotation_range=180,\n",
        "    width_shift_range=0.2,\n",
        "  height_shift_range=0.2,\n",
        "   horizontal_flip=False,vertical_flip=False)\n",
        "datagen.fit(x_train)\n",
        "hist=model.fit_generator(datagen.flow(x_train, y_train, batch_size=32),\n",
        "                         steps_per_epoch=len(x_train) / 32, \n",
        "                         epochs=10,\n",
        "                         verbose = 2 ,\n",
        "                         validation_data=(x_test,y_test))"
      ],
      "execution_count": 130,
      "outputs": [
        {
          "output_type": "stream",
          "text": [
            "Epoch 1/10\n",
            " - 29s - loss: 0.4001 - acc: 0.8112 - val_loss: 0.3081 - val_acc: 0.8864\n",
            "Epoch 2/10\n",
            " - 28s - loss: 0.3989 - acc: 0.8147 - val_loss: 0.2617 - val_acc: 0.8939\n",
            "Epoch 3/10\n",
            " - 28s - loss: 0.4063 - acc: 0.8287 - val_loss: 0.3002 - val_acc: 0.8939\n",
            "Epoch 4/10\n",
            " - 28s - loss: 0.3678 - acc: 0.8497 - val_loss: 0.2945 - val_acc: 0.8561\n",
            "Epoch 5/10\n",
            " - 28s - loss: 0.4196 - acc: 0.7816 - val_loss: 0.2362 - val_acc: 0.9242\n",
            "Epoch 6/10\n",
            " - 28s - loss: 0.3555 - acc: 0.8619 - val_loss: 0.2406 - val_acc: 0.9167\n",
            "Epoch 7/10\n",
            " - 28s - loss: 0.3347 - acc: 0.8636 - val_loss: 0.1838 - val_acc: 0.9318\n",
            "Epoch 8/10\n",
            " - 28s - loss: 0.2974 - acc: 0.8933 - val_loss: 0.2811 - val_acc: 0.8561\n",
            "Epoch 9/10\n",
            " - 28s - loss: 0.3550 - acc: 0.8654 - val_loss: 0.3325 - val_acc: 0.8333\n",
            "Epoch 10/10\n",
            " - 28s - loss: 0.2603 - acc: 0.9318 - val_loss: 0.3136 - val_acc: 0.8485\n"
          ],
          "name": "stdout"
        }
      ]
    },
    {
      "cell_type": "code",
      "metadata": {
        "id": "DlB6lqGavoX9",
        "colab_type": "code",
        "colab": {
          "base_uri": "https://localhost:8080/",
          "height": 51
        },
        "outputId": "65598af0-7066-49c9-f354-dfe176eac88b"
      },
      "source": [
        "\n",
        "model.evaluate(x_test, y_test)\n",
        "model.save('my_model.h5')\n",
        "y_pred=model.predict(x_test)\n",
        "loss, acc = model.evaluate(x_test, y_test, verbose = 0)\n",
        "print(acc * 100)\n",
        "\n"
      ],
      "execution_count": 131,
      "outputs": [
        {
          "output_type": "stream",
          "text": [
            "132/132 [==============================] - 3s 19ms/step\n",
            "84.84848484848484\n"
          ],
          "name": "stdout"
        }
      ]
    },
    {
      "cell_type": "code",
      "metadata": {
        "id": "0okr0c7zCwai",
        "colab_type": "code",
        "colab": {
          "base_uri": "https://localhost:8080/",
          "height": 34
        },
        "outputId": "4d51e08f-6b9e-40d0-e6f3-a789063476fb"
      },
      "source": [
        "x_test.shape"
      ],
      "execution_count": 86,
      "outputs": [
        {
          "output_type": "execute_result",
          "data": {
            "text/plain": [
              "(132, 128, 128, 3)"
            ]
          },
          "metadata": {
            "tags": []
          },
          "execution_count": 86
        }
      ]
    },
    {
      "cell_type": "code",
      "metadata": {
        "id": "EDuYyx-XycQT",
        "colab_type": "code",
        "colab": {
          "base_uri": "https://localhost:8080/",
          "height": 51
        },
        "outputId": "c56f1f80-70ad-4880-ff9d-09be3cbe6b4b"
      },
      "source": [
        "from google.colab.patches import cv2_imshow\n",
        "images=[]\n",
        "image = cv2.imread('/content/Hand_0000024.jpg')\n",
        "image1 = cv2.resize(image, (image_size, image_size),0,0, cv2.INTER_LINEAR)\n",
        "\n",
        "images.append(image1)\n",
        "images = np.array(images, dtype=np.uint8)\n",
        "images = images.astype('float32')\n",
        "images = np.multiply(images, 1.0/255.0) \n",
        "x=model.predict(images)\n",
        "#cv2_imshow(image)\n",
        "print(x)\n",
        "if(x[0,0]<x[0,1]):\n",
        "  print(\"right hand\")\n",
        "else:\n",
        "  print(\"left hand\")\n",
        "\n"
      ],
      "execution_count": 144,
      "outputs": [
        {
          "output_type": "stream",
          "text": [
            "[[0.26112565 0.7388743 ]]\n",
            "right hand\n"
          ],
          "name": "stdout"
        }
      ]
    },
    {
      "cell_type": "code",
      "metadata": {
        "id": "oC3_ld1lzXQS",
        "colab_type": "code",
        "colab": {}
      },
      "source": [
        ""
      ],
      "execution_count": 0,
      "outputs": []
    }
  ]
}